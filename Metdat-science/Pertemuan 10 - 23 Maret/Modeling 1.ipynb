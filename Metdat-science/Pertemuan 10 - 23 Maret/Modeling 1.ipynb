{
 "cells": [
  {
   "cell_type": "raw",
   "id": "9d769e5c",
   "metadata": {},
   "source": [
    "1. Dataset : https://archive.ics.uci.edu/ml/datasets/iris"
   ]
  },
  {
   "cell_type": "code",
   "execution_count": 1,
   "id": "4d1d8a08",
   "metadata": {},
   "outputs": [],
   "source": [
    "from sklearn import datasets\n",
    "iris = datasets.load_iris()\n",
    "x = iris.data\n",
    "y = iris.target"
   ]
  },
  {
   "cell_type": "code",
   "execution_count": 2,
   "id": "c0d9aa4a",
   "metadata": {},
   "outputs": [
    {
     "name": "stdout",
     "output_type": "stream",
     "text": [
      "Banyaknya data:  150\n"
     ]
    }
   ],
   "source": [
    "print(\"Banyaknya data: \", len(x))"
   ]
  },
  {
   "cell_type": "code",
   "execution_count": 3,
   "id": "e21e8f12",
   "metadata": {},
   "outputs": [
    {
     "name": "stdout",
     "output_type": "stream",
     "text": [
      "15 data pertama: \n",
      "[[5.1 3.5 1.4 0.2]\n",
      " [4.9 3.  1.4 0.2]\n",
      " [4.7 3.2 1.3 0.2]\n",
      " [4.6 3.1 1.5 0.2]\n",
      " [5.  3.6 1.4 0.2]\n",
      " [5.4 3.9 1.7 0.4]\n",
      " [4.6 3.4 1.4 0.3]\n",
      " [5.  3.4 1.5 0.2]\n",
      " [4.4 2.9 1.4 0.2]\n",
      " [4.9 3.1 1.5 0.1]\n",
      " [5.4 3.7 1.5 0.2]\n",
      " [4.8 3.4 1.6 0.2]\n",
      " [4.8 3.  1.4 0.1]\n",
      " [4.3 3.  1.1 0.1]\n",
      " [5.8 4.  1.2 0.2]]\n"
     ]
    }
   ],
   "source": [
    "print(\"15 data pertama: \")\n",
    "print(x[:15])"
   ]
  },
  {
   "cell_type": "raw",
   "id": "84671480",
   "metadata": {},
   "source": [
    "2. SPLIT DATA"
   ]
  },
  {
   "cell_type": "code",
   "execution_count": 4,
   "id": "28af18d1",
   "metadata": {},
   "outputs": [],
   "source": [
    "from sklearn.model_selection import train_test_split\n",
    "x_train, x_test, y_train, y_test = train_test_split(x,y,train_size = 0.7) "
   ]
  },
  {
   "cell_type": "code",
   "execution_count": 5,
   "id": "57e3b85f",
   "metadata": {},
   "outputs": [
    {
     "name": "stdout",
     "output_type": "stream",
     "text": [
      "Banyaknya data training:  105\n",
      "Banyaknya data testing:  45\n"
     ]
    }
   ],
   "source": [
    "#Cek banyak data training dan testing\n",
    "print(\"Banyaknya data training: \", len(x_train))\n",
    "print(\"Banyaknya data testing: \", len(x_test))"
   ]
  },
  {
   "cell_type": "raw",
   "id": "295a98b4",
   "metadata": {},
   "source": [
    "K-FOLD"
   ]
  },
  {
   "cell_type": "code",
   "execution_count": 7,
   "id": "e91b5ed8",
   "metadata": {},
   "outputs": [
    {
     "name": "stdout",
     "output_type": "stream",
     "text": [
      "Akurasi Support Vector Machine (SVM) setiap fold :  [0.96666667 1.         0.96666667 0.96666667 1.        ]\n",
      "Akurasi Support Vector Machine (SVM) dengan 5 fold :  0.9800000000000001\n"
     ]
    }
   ],
   "source": [
    "from sklearn.model_selection import cross_val_score\n",
    "from sklearn.svm import SVC\n",
    "\n",
    "model = SVC (kernel ='linear', C=1)\n",
    "scores = cross_val_score(model, x, y, cv = 5)\n",
    "\n",
    "print(\"Akurasi Support Vector Machine (SVM) setiap fold : \", scores)\n",
    "print(\"Akurasi Support Vector Machine (SVM) dengan 5 fold : \", scores.mean())"
   ]
  },
  {
   "cell_type": "markdown",
   "id": "ff2205b0",
   "metadata": {},
   "source": [
    "UJI COBA MODEL KLASIFIKASI"
   ]
  },
  {
   "cell_type": "raw",
   "id": "c9cccebf",
   "metadata": {},
   "source": [
    "1. KNN (K-Nearest Neighbors)\n",
    "sumber : https://scikit-learn.org/stable/modules/generated/sklearn.neighbors.KNeighborsClassifier.html#sklearn.neighbors.KNeighborsClassifier"
   ]
  },
  {
   "cell_type": "code",
   "execution_count": 9,
   "id": "9c8a87ea",
   "metadata": {},
   "outputs": [
    {
     "name": "stdout",
     "output_type": "stream",
     "text": [
      "Akurasi model KNN adalah :  0.9555555555555556\n"
     ]
    }
   ],
   "source": [
    "from sklearn.neighbors import KNeighborsClassifier\n",
    "from sklearn import metrics\n",
    "\n",
    "knn = KNeighborsClassifier()\n",
    "\n",
    "#fit = membagi data\n",
    "knn.fit(x_train, y_train)\n",
    "y_prediksi = knn.predict(x_test)\n",
    "akurasi = metrics.accuracy_score(y_test, y_prediksi)\n",
    "print (\"Akurasi model KNN adalah : \", akurasi)"
   ]
  },
  {
   "cell_type": "raw",
   "id": "0cb9b37e",
   "metadata": {},
   "source": [
    "2. Decision Tree (D-Tree)\n",
    "Sumber : https://scikit-learn.org/stable/modules/generated/sklearn.tree.DecisionTreeClassifier.html#sklearn.tree.DecisionTreeClassifier"
   ]
  },
  {
   "cell_type": "code",
   "execution_count": 10,
   "id": "cc2620e7",
   "metadata": {},
   "outputs": [
    {
     "name": "stdout",
     "output_type": "stream",
     "text": [
      "Akurasi model D-Tree adalah :  0.9333333333333333\n"
     ]
    }
   ],
   "source": [
    "from sklearn.tree import DecisionTreeClassifier\n",
    "from sklearn import metrics\n",
    "\n",
    "d_tree = DecisionTreeClassifier(max_depth = None, min_samples_split = 2)\n",
    "d_tree.fit(x_train, y_train)\n",
    "y_prediksi = d_tree.predict(x_test)\n",
    "akurasi = metrics.accuracy_score(y_test, y_prediksi)\n",
    "print (\"Akurasi model D-Tree adalah : \", akurasi)"
   ]
  },
  {
   "cell_type": "code",
   "execution_count": 14,
   "id": "f1fdfc7b",
   "metadata": {},
   "outputs": [
    {
     "name": "stdout",
     "output_type": "stream",
     "text": [
      "Akurasi model D-Tree adalah :  0.6\n"
     ]
    }
   ],
   "source": [
    "from sklearn.tree import DecisionTreeClassifier\n",
    "from sklearn import metrics\n",
    "\n",
    "d_tree = DecisionTreeClassifier(max_depth = 1, min_samples_split = 2)\n",
    "d_tree.fit(x_train, y_train)\n",
    "y_prediksi = d_tree.predict(x_test)\n",
    "akurasi = metrics.accuracy_score(y_test, y_prediksi)\n",
    "print (\"Akurasi model D-Tree adalah : \", akurasi)"
   ]
  },
  {
   "cell_type": "raw",
   "id": "17372d26",
   "metadata": {},
   "source": [
    "3. SVM (Support Vector Machines)\n",
    "Sumber : https://scikit-learn.org/stable/modules/generated/sklearn.svm.SVC.html"
   ]
  },
  {
   "cell_type": "code",
   "execution_count": 12,
   "id": "a14b4de7",
   "metadata": {},
   "outputs": [
    {
     "name": "stdout",
     "output_type": "stream",
     "text": [
      "Akurasi model SVM adalah :  0.8444444444444444\n"
     ]
    }
   ],
   "source": [
    "from sklearn.svm import SVC\n",
    "from sklearn import metrics\n",
    "\n",
    "#SVM harus setting gamma\n",
    "svm = SVC(kernel='rbf', C=1, gamma= 0.01)\n",
    "svm.fit(x_train, y_train)\n",
    "y_prediksi = svm.predict(x_test)\n",
    "akurasi = metrics.accuracy_score(y_test, y_prediksi)\n",
    "print (\"Akurasi model SVM adalah : \", akurasi)"
   ]
  },
  {
   "cell_type": "code",
   "execution_count": 13,
   "id": "4a22fa58",
   "metadata": {},
   "outputs": [
    {
     "name": "stdout",
     "output_type": "stream",
     "text": [
      "Akurasi model SVM-Linear adalah :  0.9777777777777777\n"
     ]
    }
   ],
   "source": [
    "svmLinear = SVC(kernel='linear', C=1)\n",
    "svmLinear.fit(x_train, y_train)\n",
    "y_prediksi = svmLinear.predict(x_test)\n",
    "akurasi = metrics.accuracy_score(y_test, y_prediksi)\n",
    "print (\"Akurasi model SVM-Linear adalah : \", akurasi)"
   ]
  },
  {
   "cell_type": "raw",
   "id": "c41388f9",
   "metadata": {},
   "source": [
    "4. Logistic Regression\n",
    "Sumber : https://scikit-learn.org/stable/modules/generated/sklearn.linear_model.LogisticRegression.html"
   ]
  },
  {
   "cell_type": "code",
   "execution_count": 17,
   "id": "42d1e7e1",
   "metadata": {},
   "outputs": [
    {
     "name": "stdout",
     "output_type": "stream",
     "text": [
      "Akurasi model Logistic Regression adalah :  0.9555555555555556\n"
     ]
    }
   ],
   "source": [
    "from sklearn.linear_model import LogisticRegression\n",
    "from sklearn import metrics\n",
    "\n",
    "LogReg = LogisticRegression(solver='lbfgs', max_iter=1000)\n",
    "LogReg.fit(x_train, y_train)\n",
    "y_prediksi = LogReg.predict(x_test)\n",
    "akurasi = metrics.accuracy_score(y_test, y_prediksi)\n",
    "print (\"Akurasi model Logistic Regression adalah : \", akurasi)"
   ]
  },
  {
   "cell_type": "raw",
   "id": "7ebc4bd8",
   "metadata": {},
   "source": [
    "5. Naive Bayes\n",
    "Sumber : https://scikit-learn.org/stable/modules/generated/sklearn.naive_bayes.BernoulliNB.html#sklearn.naive_bayes.BernoulliNB"
   ]
  },
  {
   "cell_type": "code",
   "execution_count": 22,
   "id": "99e2fbe1",
   "metadata": {},
   "outputs": [
    {
     "name": "stdout",
     "output_type": "stream",
     "text": [
      "Akurasi model Naive Bayes adalah :  0.28888888888888886\n"
     ]
    }
   ],
   "source": [
    "from sklearn.naive_bayes import BernoulliNB\n",
    "from sklearn import metrics\n",
    "\n",
    "nb_Bernoulli = BernoulliNB()\n",
    "nb_Bernoulli.fit(x_train, y_train)\n",
    "y_prediksi = nb_Bernoulli.predict(x_test)\n",
    "akurasi = metrics.accuracy_score(y_test, y_prediksi)\n",
    "print (\"Akurasi model Naive Bayes adalah : \", akurasi)"
   ]
  },
  {
   "cell_type": "code",
   "execution_count": 23,
   "id": "5637aeaa",
   "metadata": {},
   "outputs": [
    {
     "name": "stdout",
     "output_type": "stream",
     "text": [
      "Akurasi model Naive Bayes adalah :  0.9333333333333333\n"
     ]
    }
   ],
   "source": [
    "from sklearn.naive_bayes import GaussianNB\n",
    "from sklearn import metrics\n",
    "\n",
    "nb_Gaussian = GaussianNB()\n",
    "nb_Gaussian.fit(x_train, y_train)\n",
    "y_prediksi = nb_Gaussian.predict(x_test)\n",
    "akurasi = metrics.accuracy_score(y_test, y_prediksi)\n",
    "print (\"Akurasi model Naive Bayes adalah : \", akurasi)"
   ]
  }
 ],
 "metadata": {
  "kernelspec": {
   "display_name": "Python 3 (ipykernel)",
   "language": "python",
   "name": "python3"
  },
  "language_info": {
   "codemirror_mode": {
    "name": "ipython",
    "version": 3
   },
   "file_extension": ".py",
   "mimetype": "text/x-python",
   "name": "python",
   "nbconvert_exporter": "python",
   "pygments_lexer": "ipython3",
   "version": "3.9.2"
  }
 },
 "nbformat": 4,
 "nbformat_minor": 5
}
